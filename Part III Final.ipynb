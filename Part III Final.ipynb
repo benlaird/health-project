{
 "cells": [
  {
   "cell_type": "code",
   "execution_count": 1,
   "metadata": {},
   "outputs": [],
   "source": [
    "import pandas as pd\n",
    "import numpy as np\n",
    "import seaborn as sns\n",
    "import matplotlib.pyplot as plt\n",
    "import statsmodels.api as sm\n",
    "from statsmodels.formula.api import ols\n",
    "import re\n",
    "import scipy.stats as stats\n",
    "from sklearn.linear_model import LinearRegression\n",
    "from sklearn.model_selection import cross_val_score\n",
    "from sklearn.model_selection import KFold\n",
    "from itertools import combinations\n",
    "from sklearn import neighbors\n",
    "from sklearn.impute import KNNImputer\n",
    "# plt.style.use('ggplot')"
   ]
  },
  {
   "cell_type": "code",
   "execution_count": 2,
   "metadata": {
    "scrolled": false
   },
   "outputs": [
    {
     "name": "stderr",
     "output_type": "stream",
     "text": [
      "/Users/rebjl/opt/anaconda3/lib/python3.7/site-packages/IPython/core/interactiveshell.py:3249: DtypeWarning: Columns (379,380,396) have mixed types. Specify dtype option on import or set low_memory=False.\n",
      "  if (await self.run_code(code, result,  async_=asy)):\n"
     ]
    }
   ],
   "source": [
    "def read_csvs():\n",
    "    df_hanes = pd.read_csv('nhanes.csv')\n",
    "    df_hanes.columns = [col.lower() for col in df_hanes.columns]\n",
    "    return df_hanes\n",
    "\n",
    "def create_predictors(source_df, predictors):\n",
    "    \"\"\"\n",
    "        Each predictor is of the form: ('unemployed', ''bst90p23_y')\n",
    "    \"\"\"\n",
    "    df = pd.DataFrame([])\n",
    "    for pred in predictors:\n",
    "        df[pred[0]] = source_df[pred[1]]\n",
    "    return df\n",
    "\n",
    "def create_dummies(source_df, pred_df, dummy_tuples):\n",
    "    for dummy_tup in dummy_tuples:\n",
    "        dummy = pd.get_dummies(source_df[dummy_tup[1]].astype('category'), prefix=dummy_tup[0],drop_first=True)\n",
    "        pred_df = pd.concat([pred_df, dummy], axis=1)\n",
    "    return pred_df\n",
    "\n",
    "def knn_impute(df, col_list_to_impute):\n",
    "    imputer = KNNImputer(n_neighbors=15)\n",
    "    df_filled = imputer.fit_transform(df)\n",
    "    new_df = pd.DataFrame(df_filled)\n",
    "    new_df.columns = df.columns\n",
    "    for c in col_list_to_impute:\n",
    "        df[c] = new_df[c]\n",
    "    return df\n",
    "\n",
    "dummies = [\n",
    "           ('gender', 'riagendr'),\n",
    "           ('race', 'ridreth3')\n",
    "          ]\n",
    "\n",
    "predictors = [\n",
    "              ('chol', 'lbxtc'),\n",
    "              ('trig', 'lbxstr'),\n",
    "              ('age', 'ridageyr'),\n",
    "              ('bmi', 'bmxbmi'),\n",
    "              ('bp', 'bpxsy2'),\n",
    "              ('bun', 'lbxsbu'),\n",
    "             ]\n",
    "\n",
    "df_hanes = read_csvs()\n",
    "\n",
    "# Age\n",
    "df_hanes['ridageyr'] = df_hanes['ridageyr'].apply(lambda x: np.nan if (x < 1) | (x >= 80) else x)\n",
    "\n",
    "pred_df = create_predictors(df_hanes, predictors)\n",
    "pred_df = create_dummies(df_hanes, pred_df, dummies)\n",
    "# pred_df = knn_impute(pred_df, ['chol','trig','bmi','bp','age','bun','gender_2','race_2','race_3','race_4','race_6','race_7'])\n",
    "\n",
    "\n",
    "pred_df.columns = [col.replace('.','_') for col in pred_df.columns]"
   ]
  },
  {
   "cell_type": "code",
   "execution_count": 9,
   "metadata": {},
   "outputs": [
    {
     "name": "stdout",
     "output_type": "stream",
     "text": [
      "8034\n",
      "11130\n",
      "3489\n"
     ]
    }
   ],
   "source": [
    "print(pred_df['chol'].isna().sum())\n",
    "print(pred_df['trig'].isna().sum())\n",
    "print(pred_df['bmi'].isna().sum())"
   ]
  },
  {
   "cell_type": "code",
   "execution_count": 20,
   "metadata": {},
   "outputs": [
    {
     "name": "stdout",
     "output_type": "stream",
     "text": [
      "chol na values 8034\n",
      "trig na values 11130\n",
      "chol_rand na values 0\n",
      "trig_rand na values 0\n",
      "correlation between chol_rand & trig_rand: 0.37807054287590175\n"
     ]
    }
   ],
   "source": [
    "import random\n",
    "\n",
    "random.seed(0)\n",
    "r = random.random()\n",
    "\n",
    "def num_nas(series):   \n",
    "    print(f\"{series.name} na values {series.isna().sum()}\")\n",
    "\n",
    "num_nas(pred_df['chol'])\n",
    "num_nas(pred_df['trig'])\n",
    "\n",
    "pred_df['chol_rand'] = pred_df['chol'].map(\n",
    "    lambda x: random.random() if x not in [np.nan] else 1)\n",
    "\n",
    "pred_df['trig_rand'] = pred_df['trig'].map(\n",
    "    lambda x: random.random() if x not in [np.nan] else 1)\n",
    "\n",
    "num_nas(pred_df['chol_rand'])\n",
    "num_nas(pred_df['trig_rand'])\n",
    "\n",
    "corr = pred_df['chol'].corr(pred_df['trig'])\n",
    "print(f\"correlation between chol_rand & trig_rand: {corr}\")\n"
   ]
  },
  {
   "cell_type": "markdown",
   "metadata": {},
   "source": [
    "## The impact of biomedical measures on total cholesterol levels in young, middle-aged, and elderly populations in the US 2013-2016.\n",
    "DV: Total Cholesterol \n",
    "IV: Triglycerides, BMI, Blood Pressure, BUN, Age, Gender, Race"
   ]
  },
  {
   "cell_type": "markdown",
   "metadata": {},
   "source": [
    "### Plots of Non-Transformed, Non-Scaled"
   ]
  },
  {
   "cell_type": "code",
   "execution_count": null,
   "metadata": {
    "scrolled": false
   },
   "outputs": [],
   "source": [
    "# Correlation and Histogram\n",
    "sns.jointplot(pred_df['chol'], pred_df['trig'], kind='reg')"
   ]
  },
  {
   "cell_type": "code",
   "execution_count": null,
   "metadata": {},
   "outputs": [],
   "source": [
    "# Continuous Vars\n",
    "pred_df.bmi.plot(kind='hist', alpha=0.5)\n",
    "pred_df.bp.plot(kind='hist', alpha=0.5)\n",
    "pred_df.bun.plot(kind='hist', alpha=0.5)\n",
    "pred_df.chol.plot(kind='hist', alpha=0.5)\n",
    "pred_df.trig.plot(kind='hist', alpha=0.5)\n",
    "\n",
    "plt.legend()"
   ]
  },
  {
   "cell_type": "code",
   "execution_count": null,
   "metadata": {
    "scrolled": false
   },
   "outputs": [],
   "source": [
    "# Correlation Matrix / Heatmap\n",
    "\n",
    "corr = pred_df.corr()\n",
    "ax = sns.heatmap(\n",
    "    corr, \n",
    "    vmin=-1, vmax=1, center=0,\n",
    "    cmap=sns.diverging_palette(20, 220, n=200),\n",
    "    square=True\n",
    ")\n",
    "ax.set_xticklabels(\n",
    "    ax.get_xticklabels(),\n",
    "    rotation=45,\n",
    "    horizontalalignment='right'\n",
    ");"
   ]
  },
  {
   "cell_type": "code",
   "execution_count": null,
   "metadata": {},
   "outputs": [],
   "source": [
    "pred_df = pred_df.dropna()\n",
    "print(f'Length of dataframe after drop NAs: {len(pred_df)}')\n",
    "\n",
    "X = pred_df.drop(['chol'], axis=1)\n",
    "y = pred_df['chol']\n",
    "print('Ready for Regression')"
   ]
  },
  {
   "cell_type": "code",
   "execution_count": null,
   "metadata": {},
   "outputs": [],
   "source": [
    "regression = LinearRegression()\n",
    "crossvalidation = KFold(n_splits=3, shuffle=True, random_state=1)\n",
    "\n",
    "baseline = np.mean(cross_val_score(regression, X, y, scoring='r2', cv=crossvalidation))\n",
    "print(f'R-squared score for non-normal model: {baseline}')"
   ]
  },
  {
   "cell_type": "markdown",
   "metadata": {},
   "source": [
    "### Assumptions"
   ]
  },
  {
   "cell_type": "code",
   "execution_count": null,
   "metadata": {
    "scrolled": true
   },
   "outputs": [],
   "source": [
    "X.columns"
   ]
  },
  {
   "cell_type": "code",
   "execution_count": null,
   "metadata": {
    "scrolled": true
   },
   "outputs": [],
   "source": [
    "model =ols('chol~trig+age+bmi+bp+bun+gender_2+race_2+race_2+race_3+race_4+race_6+race_7',data=pred_df).fit()\n",
    "model.summary()"
   ]
  },
  {
   "cell_type": "code",
   "execution_count": null,
   "metadata": {},
   "outputs": [],
   "source": [
    "\n",
    "plt.rc('figure', figsize=(11, 8.5))\n",
    "#plt.text(0.01, 0.05, str(model.summary()), {'fontsize': 12}) old approach\n",
    "plt.text(0.01, 0.05, str(model.summary()), {'fontsize': 10}, fontproperties = 'monospace') # approach improved by OP -> monospace!\n",
    "plt.axis('off')\n",
    "plt.tight_layout()\n",
    "plt.savefig('model_summary.png')"
   ]
  },
  {
   "cell_type": "code",
   "execution_count": null,
   "metadata": {},
   "outputs": [],
   "source": [
    "pred_val = model.fittedvalues.copy()\n",
    "true_val = pred_df['chol'].values.copy()\n",
    "residual = true_val - pred_val"
   ]
  },
  {
   "cell_type": "code",
   "execution_count": null,
   "metadata": {
    "scrolled": true
   },
   "outputs": [],
   "source": [
    "fig, ax = plt.subplots(figsize=(6,2.5))\n",
    "ax.scatter(pred_df['trig'],residual)"
   ]
  },
  {
   "cell_type": "code",
   "execution_count": null,
   "metadata": {},
   "outputs": [],
   "source": [
    "# checking for normality - QQ plot \n",
    "import statsmodels.api as sm\n",
    "import scipy as sp\n",
    "\n",
    "fig, ax = plt.subplots(figsize=(6,2.5))\n",
    "sp.stats.probplot(residual, plot=ax, fit=True)\n",
    "residual**2\n",
    "\n",
    "sm.graphics.qqplot(residual, dist=sp.stats.norm) # me\n",
    "0.9523990893322951"
   ]
  },
  {
   "cell_type": "code",
   "execution_count": null,
   "metadata": {
    "scrolled": true
   },
   "outputs": [],
   "source": [
    "sns.distplot(residual)"
   ]
  },
  {
   "cell_type": "code",
   "execution_count": null,
   "metadata": {},
   "outputs": [],
   "source": []
  },
  {
   "cell_type": "markdown",
   "metadata": {},
   "source": [
    "### Plots of Log-Transformed"
   ]
  },
  {
   "cell_type": "code",
   "execution_count": null,
   "metadata": {},
   "outputs": [],
   "source": [
    "def read_csvs():\n",
    "    df_hanes = pd.read_csv('nhanes.csv')\n",
    "    df_hanes.columns = [col.lower() for col in df_hanes.columns]\n",
    "    return df_hanes\n",
    "\n",
    "def create_predictors(source_df, predictors):\n",
    "    \"\"\"\n",
    "        Each predictor is of the form: ('unemployed', ''bst90p23_y')\n",
    "    \"\"\"\n",
    "    df = pd.DataFrame([])\n",
    "    for pred in predictors:\n",
    "        df[pred[0]] = source_df[pred[1]]\n",
    "    return df\n",
    "\n",
    "def create_dummies(source_df, pred_df, dummy_tuples):\n",
    "    for dummy_tup in dummy_tuples:\n",
    "        dummy = pd.get_dummies(source_df[dummy_tup[1]].astype('category'), prefix=dummy_tup[0],drop_first=True)\n",
    "        pred_df = pd.concat([pred_df, dummy], axis=1)\n",
    "    return pred_df\n",
    "\n",
    "def knn_impute(df, col_list_to_impute):\n",
    "    imputer = KNNImputer(n_neighbors=15)\n",
    "    df_filled = imputer.fit_transform(df)\n",
    "    new_df = pd.DataFrame(df_filled)\n",
    "    new_df.columns = df.columns\n",
    "    for c in col_list_to_impute:\n",
    "        df[c] = new_df[c]\n",
    "    return df\n",
    "\n",
    "dummies = [\n",
    "           ('gender', 'riagendr'),\n",
    "           ('race', 'ridreth3')\n",
    "          ]\n",
    "\n",
    "predictors = [\n",
    "              ('chol', 'lbxtc'),\n",
    "              ('trig', 'lbxstr'),\n",
    "              ('age', 'ridageyr'),\n",
    "              ('bmi', 'bmxbmi'),\n",
    "              ('bp', 'bpxsy2'),\n",
    "              ('bun', 'lbxsbu'),\n",
    "             ]\n",
    "\n",
    "df_hanes = read_csvs()\n",
    "\n",
    "# Log Transformation\n",
    "non_normal = [\n",
    "              'lbxgh', \n",
    "              'lbxtc',\n",
    "              'lbxstr',\n",
    "              'bmxbmi', \n",
    "              'bpxsy2',\n",
    "              'lbxsbu'\n",
    "             ]\n",
    "\n",
    "for feat in non_normal:\n",
    "    df_hanes[feat] = df_hanes[feat].map(lambda x: np.log(x))\n",
    "\n",
    "# Normalization - Finish writing loop\n",
    "normalize = []\n",
    "for feat in normalize:\n",
    "    df_hanes[feat] = df_hanes[feat]\n",
    "    \n",
    "\n",
    "# Age\n",
    "df_hanes['ridageyr'] = df_hanes['ridageyr'].apply(lambda x: np.nan if (x < 1) | (x >= 80) else x)\n",
    "\n",
    "pred_df = create_predictors(df_hanes, predictors)\n",
    "pred_df = create_dummies(df_hanes, pred_df, dummies)\n",
    "pred_df = knn_impute(pred_df, ['chol','trig','bmi','bp','age','bun','gender_2','race_2','race_3','race_4','race_6','race_7'])\n",
    "\n",
    "\n",
    "pred_df.columns = [col.replace('.','_') for col in pred_df.columns]"
   ]
  },
  {
   "cell_type": "code",
   "execution_count": null,
   "metadata": {
    "scrolled": true
   },
   "outputs": [],
   "source": [
    "# Correlation and Histogram\n",
    "sns.jointplot(pred_df['chol'], pred_df['trig'], kind='reg')"
   ]
  },
  {
   "cell_type": "code",
   "execution_count": null,
   "metadata": {
    "scrolled": true
   },
   "outputs": [],
   "source": [
    "# Continuous Vars\n",
    "pred_df.bmi.plot(kind='hist', alpha=0.5)\n",
    "pred_df.bp.plot(kind='hist', alpha=0.5)\n",
    "pred_df.bun.plot(kind='hist', alpha=0.5)\n",
    "pred_df.chol.plot(kind='hist', alpha=0.5)\n",
    "pred_df.trig.plot(kind='hist', alpha=0.5)\n",
    "\n",
    "plt.legend()"
   ]
  },
  {
   "cell_type": "code",
   "execution_count": null,
   "metadata": {
    "scrolled": true
   },
   "outputs": [],
   "source": [
    "# Correlation Matrix / Heatmap\n",
    "\n",
    "corr = pred_df.corr()\n",
    "ax = sns.heatmap(\n",
    "    corr, \n",
    "    vmin=-1, vmax=1, center=0,\n",
    "    cmap=sns.diverging_palette(20, 220, n=200),\n",
    "    square=True\n",
    ")\n",
    "ax.set_xticklabels(\n",
    "    ax.get_xticklabels(),\n",
    "    rotation=45,\n",
    "    horizontalalignment='right'\n",
    ");"
   ]
  },
  {
   "cell_type": "markdown",
   "metadata": {},
   "source": [
    "### Min-Max Scaled Log-Transformed"
   ]
  },
  {
   "cell_type": "code",
   "execution_count": null,
   "metadata": {
    "scrolled": true
   },
   "outputs": [],
   "source": [
    "bmi = pred_df.bmi\n",
    "bp = pred_df.bp\n",
    "bun = pred_df.bun\n",
    "chol = pred_df.chol\n",
    "trig = pred_df.trig\n",
    "\n",
    "# min-max\n",
    "scaled_bmi = (bmi - min(bmi)) / (max(bmi) - min(bmi))\n",
    "scaled_bp = (bp - min(bp)) / (max(bp) - min(bp))\n",
    "scaled_bun = (bun - min(bun)) / (max(bun) - min(bun))\n",
    "scaled_chol = (chol - min(chol)) / (max(chol) - min(chol))\n",
    "scaled_trig = (trig - min(trig)) / (max(trig) - min(trig))\n",
    "\n",
    "\n",
    "data_cont_scaled = pd.DataFrame([])\n",
    "data_cont_scaled['bmi'] = scaled_bmi\n",
    "data_cont_scaled['bp'] = scaled_bp\n",
    "data_cont_scaled['bun'] = scaled_bun\n",
    "data_cont_scaled['chol'] = scaled_chol\n",
    "data_cont_scaled['trig'] = scaled_trig\n",
    "\n",
    "\n",
    "data_cont_scaled.hist(figsize = [10, 6]);"
   ]
  },
  {
   "cell_type": "code",
   "execution_count": null,
   "metadata": {
    "scrolled": true
   },
   "outputs": [],
   "source": [
    "pred_df['bmi'] = data_cont_scaled['bmi']\n",
    "pred_df['bp'] = data_cont_scaled['bp']\n",
    "pred_df['bun'] = data_cont_scaled['bun']\n",
    "pred_df['chol'] = data_cont_scaled['chol']\n",
    "pred_df['trig'] = data_cont_scaled['trig']\n",
    "print('Inputted scaled data back into main dataframe')"
   ]
  },
  {
   "cell_type": "code",
   "execution_count": null,
   "metadata": {},
   "outputs": [],
   "source": [
    "pred_df = pred_df.dropna()\n",
    "print(f'Length of dataframe after drop NAs: {len(pred_df)}')\n",
    "\n",
    "X = pred_df.drop(['chol'], axis=1)\n",
    "y = pred_df['chol']\n",
    "print('Ready for Regression')"
   ]
  },
  {
   "cell_type": "code",
   "execution_count": null,
   "metadata": {},
   "outputs": [],
   "source": [
    "regression = LinearRegression()\n",
    "crossvalidation = KFold(n_splits=3, shuffle=True, random_state=1)\n",
    "\n",
    "baseline = np.mean(cross_val_score(regression, X, y, scoring='r2', cv=crossvalidation))\n",
    "baseline"
   ]
  },
  {
   "cell_type": "code",
   "execution_count": null,
   "metadata": {},
   "outputs": [],
   "source": [
    "# 0.233\n",
    "# 0.2156 w/ imputation k=5\n",
    "# 0.236 w/ imputation k=10\n",
    "# 0.238 w/ imputation k=15"
   ]
  },
  {
   "cell_type": "markdown",
   "metadata": {},
   "source": [
    "### Interactions - Age and BUN"
   ]
  },
  {
   "cell_type": "code",
   "execution_count": null,
   "metadata": {},
   "outputs": [],
   "source": [
    "pred_df['age'] = pred_df['age'].apply(lambda x: 1 if x < 40 else x)\n",
    "pred_df['age'] = pred_df['age'].apply(lambda x: 2 if (x >= 40) & (x < 60) else x)\n",
    "pred_df['age'] = pred_df['age'].apply(lambda x: 3 if (x >= 60) & (x < 80) else x)\n",
    "\n",
    "age_1 = pred_df[pred_df['age'] == 1]\n",
    "age_2 = pred_df[pred_df['age'] == 2]\n",
    "age_3 = pred_df[pred_df['age'] == 3]\n",
    "print('Grouped Age into 3 Groups')"
   ]
  },
  {
   "cell_type": "code",
   "execution_count": null,
   "metadata": {},
   "outputs": [],
   "source": [
    "pred_df.boxplot('chol',by = 'age',figsize = (7,7))"
   ]
  },
  {
   "cell_type": "code",
   "execution_count": null,
   "metadata": {},
   "outputs": [],
   "source": [
    "regression_1 = LinearRegression()\n",
    "regression_2 = LinearRegression()\n",
    "regression_3 = LinearRegression()\n",
    "\n",
    "bun_1 = age_1['bun'].values.reshape(-1, 1)\n",
    "bun_2 = age_2['bun'].values.reshape(-1, 1)\n",
    "bun_3 = age_3['bun'].values.reshape(-1, 1)\n",
    "\n",
    "regression_1.fit(bun_1, age_1['chol'])\n",
    "regression_2.fit(bun_2, age_2['chol'])\n",
    "regression_3.fit(bun_3, age_3['chol'])\n",
    "\n",
    "\n",
    "# Make predictions using the testing set\n",
    "pred_1 = regression_1.predict(bun_1)\n",
    "pred_2 = regression_2.predict(bun_2)\n",
    "pred_3 = regression_3.predict(bun_3)\n",
    "\n",
    "\n",
    "# The coefficients\n",
    "print(f'Regression Coefficient 1: {regression_1.coef_}')\n",
    "print(f'Regression Coefficient 2: {regression_2.coef_}')\n",
    "print(f'Regression Coefficient 3: {regression_3.coef_}')\n"
   ]
  },
  {
   "cell_type": "code",
   "execution_count": null,
   "metadata": {},
   "outputs": [],
   "source": [
    "plt.figure(figsize=(10,6))\n",
    "\n",
    "plt.scatter(bun_1, age_1['chol'],  color='blue', alpha=0.3, label = 'age = 1')\n",
    "plt.scatter(bun_2, age_2['chol'],  color='red', alpha=0.3, label = 'age = 2')\n",
    "plt.scatter(bun_3, age_3['chol'],  color='white', alpha=0.3, label = 'age = 3')\n",
    "\n",
    "plt.plot(bun_1, pred_1, color='blue', linewidth=2)\n",
    "plt.plot(bun_2, pred_2, color='red', linewidth=2)\n",
    "plt.plot(bun_3, pred_3, color='green', linewidth=2)\n",
    "\n",
    "plt.ylabel('chol')\n",
    "plt.xlabel('bun')\n",
    "plt.legend();"
   ]
  },
  {
   "cell_type": "code",
   "execution_count": null,
   "metadata": {},
   "outputs": [],
   "source": [
    "fig, ax = plt.subplots(1, 1, figsize=(11, 8.5))\n",
    "fig.suptitle(\"Predicting Cholesterol using BUN with age group as predictor\", fontsize=16)\n",
    "ax.set_title(\"K-Nearest Neighbors Interpolation=15\")\n",
    "# plot_ax.legend([home.split(' ', 1)[0], away.split(' ', 1)[0]], loc='upper right')\n",
    "ax.scatter(bun_1, age_1['chol'],  color='blue', alpha=0.3, label = 'age < 40')\n",
    "ax.scatter(bun_2, age_2['chol'],  color='red', alpha=0.3, label = '40 < age < 60')\n",
    "ax.scatter(bun_3, age_3['chol'],  color='white', alpha=0.3, label = '60 < age < 80')\n",
    "ax.plot(bun_1, pred_1, color='blue', linewidth=2)\n",
    "ax.plot(bun_2, pred_2, color='red', linewidth=2)\n",
    "ax.plot(bun_3, pred_3, color='green', linewidth=2)\n",
    "ax.set_ylabel('Cholesterol mg/dL (chol)')\n",
    "ax.set_xlabel('Blood Urea Nitrogen mg/dL (bun)')\n",
    "# ax.ylabel('Cholesterol mg/dL (chol)')\n",
    "# ax.xlabel('Blood Urea Nitrogen mg/dL (bun)')\n",
    "ax.legend();\n",
    "plt.savefig(\"predicting cholesterol.png\")"
   ]
  },
  {
   "cell_type": "code",
   "execution_count": null,
   "metadata": {},
   "outputs": [],
   "source": [
    "regression = LinearRegression()\n",
    "crossvalidation = KFold(n_splits=3, shuffle=True, random_state=1)\n",
    "\n",
    "X_interact = X.copy()\n",
    "X_interact['bun_age'] = X['bun'] * X['age']\n",
    "\n",
    "interact_bun_age = np.mean(cross_val_score(regression, X_interact, y, scoring='r2', cv=crossvalidation))\n",
    "print(f'Regression Coefficient for Interaction: {interact_bun_age}')"
   ]
  },
  {
   "cell_type": "markdown",
   "metadata": {},
   "source": [
    "## 0.25!"
   ]
  },
  {
   "cell_type": "markdown",
   "metadata": {},
   "source": [
    "### Check for statistical Significance"
   ]
  },
  {
   "cell_type": "code",
   "execution_count": null,
   "metadata": {},
   "outputs": [],
   "source": [
    "import statsmodels.api as sm\n",
    "X_interact = sm.add_constant(X_interact)\n",
    "model = sm.OLS(y,X_interact)\n",
    "results = model.fit()\n",
    "\n",
    "results.summary()"
   ]
  },
  {
   "cell_type": "code",
   "execution_count": null,
   "metadata": {},
   "outputs": [],
   "source": []
  }
 ],
 "metadata": {
  "kernelspec": {
   "display_name": "Python 3",
   "language": "python",
   "name": "python3"
  },
  "language_info": {
   "codemirror_mode": {
    "name": "ipython",
    "version": 3
   },
   "file_extension": ".py",
   "mimetype": "text/x-python",
   "name": "python",
   "nbconvert_exporter": "python",
   "pygments_lexer": "ipython3",
   "version": "3.7.4"
  }
 },
 "nbformat": 4,
 "nbformat_minor": 2
}
